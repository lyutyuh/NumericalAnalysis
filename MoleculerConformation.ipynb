{
 "cells": [
  {
   "cell_type": "code",
   "execution_count": 1,
   "metadata": {},
   "outputs": [],
   "source": [
    "import numpy as np\n",
    "import scipy\n",
    "import math\n",
    "from scipy import optimize\n",
    "import copy\n",
    "import time"
   ]
  },
  {
   "cell_type": "code",
   "execution_count": 2,
   "metadata": {},
   "outputs": [],
   "source": [
    "import matlab.engine"
   ]
  },
  {
   "cell_type": "code",
   "execution_count": 3,
   "metadata": {},
   "outputs": [
    {
     "name": "stdout",
     "output_type": "stream",
     "text": [
      "True\n"
     ]
    }
   ],
   "source": [
    "mat_eng = matlab.engine.start_matlab()\n",
    "tf = mat_eng.isprime(37)\n",
    "print(tf)"
   ]
  },
  {
   "cell_type": "code",
   "execution_count": 4,
   "metadata": {},
   "outputs": [],
   "source": [
    "class Particle(object):\n",
    "    def __init__(self, position, m=1.0, v=0,v_direction=(0, 0, 0)):\n",
    "        x, y, z = position\n",
    "        self.x = x\n",
    "        self.y = y\n",
    "        self.z = z\n",
    "        self.mass = m\n",
    "        self.velocity = v\n",
    "        self.vx, self.vy, self.vz = v_direction\n",
    "    \n",
    "    def distance(self, otherParticle):\n",
    "        return\n",
    "    \n",
    "    @staticmethod\n",
    "    def distance(particle1, particle2):\n",
    "        dx = particle1.x - particle2.x\n",
    "        dy = particle1.y - particle2.y\n",
    "        dz = particle1.z - particle2.z\n",
    "        l2norm = (dx*dx + dy*dy + dz*dz)**((0.5))\n",
    "        return l2norm\n",
    "    "
   ]
  },
  {
   "cell_type": "code",
   "execution_count": 5,
   "metadata": {},
   "outputs": [],
   "source": [
    "def nelder_mead(f, x_start,\n",
    "                step=(0.1), no_improve_thr=(10e-6),\n",
    "                no_improv_break=(5), max_iter=(0),\n",
    "                alpha=(1.), gamma=(2.), rho=(-0.5), sigma=(0.5)):\n",
    "    '''\n",
    "        @param f (function): function to optimize, must return a scalar score\n",
    "            and operate over a numpy array of the same dimensions as x_start\n",
    "        @param x_start (numpy array): initial position\n",
    "        @param step (float): look-around radius in initial step\n",
    "        @no_improv_thr,  no_improv_break (float, int): break after no_improv_break iterations with\n",
    "            an improvement lower than no_improv_thr\n",
    "        @max_iter (int): always break after this number of iterations.\n",
    "            Set it to 0 to loop indefinitely.\n",
    "        @alpha, gamma, rho, sigma (floats): parameters of the algorithm\n",
    "            (see Wikipedia page for reference)\n",
    "        return: tuple (best parameter array, best score)\n",
    "    '''\n",
    "\n",
    "    # init\n",
    "    dim = len(x_start)\n",
    "    prev_best = f(x_start)\n",
    "    no_improv = 0\n",
    "    res = [[x_start, prev_best]]\n",
    "\n",
    "    for i in range(dim):\n",
    "        x = copy.copy(x_start)\n",
    "        x[i] = x[i] + step\n",
    "        score = f(x)\n",
    "        res.append([x, score])\n",
    "\n",
    "    # simplex iter\n",
    "    iters = 0\n",
    "    while 1:\n",
    "        # order\n",
    "        res.sort(key=lambda x: x[1])\n",
    "        best = res[0][1]\n",
    "\n",
    "        # break after max_iter\n",
    "        if max_iter and iters >= max_iter:\n",
    "            return res[0]\n",
    "        iters += 1\n",
    "\n",
    "        # break after no_improv_break iterations with no improvement\n",
    "\n",
    "        if best < prev_best - no_improve_thr:\n",
    "            no_improv = 0\n",
    "            prev_best = best\n",
    "        else:\n",
    "            no_improv += 1\n",
    "\n",
    "        if no_improv >= no_improv_break:\n",
    "            return res[0]\n",
    "\n",
    "        # centroid\n",
    "        x0 = [(0.)] * dim\n",
    "        for tup in res[:-1]:\n",
    "            for i, c in enumerate(tup[0]):\n",
    "                x0[i] += c / (len(res)-1)\n",
    "\n",
    "        # reflection\n",
    "        xr = x0 + alpha*(x0 - res[-1][0])\n",
    "        rscore = f(xr)\n",
    "        if res[0][1] <= rscore < res[-2][1]:\n",
    "            del res[-1]\n",
    "            res.append([xr, rscore])\n",
    "            continue\n",
    "\n",
    "        # expansion\n",
    "        if rscore < res[0][1]:\n",
    "            xe = x0 + gamma*(x0 - res[-1][0])\n",
    "            escore = f(xe)\n",
    "            if escore < rscore:\n",
    "                del res[-1]\n",
    "                res.append([xe, escore])\n",
    "                continue\n",
    "            else:\n",
    "                del res[-1]\n",
    "                res.append([xr, rscore])\n",
    "                continue\n",
    "\n",
    "        # contraction\n",
    "        xc = x0 + rho*(x0 - res[-1][0])\n",
    "        cscore = f(xc)\n",
    "        if cscore < res[-1][1]:\n",
    "            del res[-1]\n",
    "            res.append([xc, cscore])\n",
    "            continue\n",
    "\n",
    "        # reduction\n",
    "        x1 = res[0][0]\n",
    "        nres = []\n",
    "        for tup in res:\n",
    "            redx = x1 + sigma*(tup[0] - x1)\n",
    "            score = f(redx)\n",
    "            nres.append([redx, score])\n",
    "        res = nres"
   ]
  },
  {
   "cell_type": "code",
   "execution_count": 6,
   "metadata": {},
   "outputs": [],
   "source": [
    "class System(object):\n",
    "    def __init__(self, n=2):\n",
    "        self.particles = []\n",
    "        self.zero = None\n",
    "        for i in range(n):\n",
    "            self.add(Particle((0,0,0)))\n",
    "        return\n",
    "    \n",
    "    def add(self, particle):\n",
    "        assert type(particle) == Particle\n",
    "        particle.x = (particle.x)\n",
    "        particle.y = (particle.y)\n",
    "        particle.z = (particle.z)\n",
    "        self.particles.append(particle)\n",
    "    \n",
    "    @staticmethod\n",
    "    def Lennard_Jones(r):\n",
    "        return r**(-12) - 2*r**(-6)\n",
    "    \n",
    "    @staticmethod\n",
    "    def potentialEnergyTwoParticles(particle1, particle2):\n",
    "        r = Particle.distance(particle1, particle2)\n",
    "        return System.Lennard_Jones(r)\n",
    "    \n",
    "    def particlesAsParams(self):\n",
    "        para = []\n",
    "        for p in self.particles:\n",
    "            para.append(p.x)\n",
    "            para.append(p.y)\n",
    "            para.append(p.z)\n",
    "        para = np.array(para)\n",
    "        return para\n",
    "    \n",
    "    def particlesFromParams(self, para):\n",
    "        assert len(para) % 3 == 0 and len(para) > 0\n",
    "        i = 0\n",
    "        for _idx, par in enumerate(para):\n",
    "            if _idx % 3 == 0:\n",
    "                self.particles[i].x = par\n",
    "            if _idx % 3 == 1:\n",
    "                self.particles[i].y = par\n",
    "            if _idx % 3 == 2:\n",
    "                self.particles[i].z = par\n",
    "                i += 1\n",
    "        return\n",
    "    \n",
    "    def systemPotentialEnergyAsFunc(self, params):\n",
    "        self.particlesFromParams(params)\n",
    "        return self.potentialEnergy()\n",
    "\n",
    "    def systemPotentialEnergyGradient(self, params):\n",
    "        return optimize.approx_fprime(params, self.systemPotentialEnergyAsFunc, [1e-9]*len(params))\n",
    "\n",
    "    def potentialEnergy(self):\n",
    "        p_E = (0.0)\n",
    "        '''calculate the potential of this particle system'''\n",
    "        for _id1, p1 in enumerate(self.particles):\n",
    "            for _id2, p2 in enumerate(self.particles):\n",
    "                if _id1 == _id2:\n",
    "                    break\n",
    "                p_E += self.potentialEnergyTwoParticles(p1, p2)\n",
    "        return p_E        "
   ]
  },
  {
   "cell_type": "code",
   "execution_count": null,
   "metadata": {},
   "outputs": [],
   "source": []
  },
  {
   "cell_type": "code",
   "execution_count": 7,
   "metadata": {},
   "outputs": [],
   "source": [
    "def random_vector_generator(d, nm=(1.)):\n",
    "    '''d: dimension of the vector\n",
    "       nm: l2-norm of the vector\n",
    "    '''\n",
    "    while True:\n",
    "        gauss = np.random.normal(size=d)\n",
    "        gauss.dtype\n",
    "        length = (np.linalg.norm(gauss))\n",
    "        if length == 0.0:\n",
    "            continue\n",
    "        else:\n",
    "            # x = np.multiply(gauss, nm / length)\n",
    "            x=gauss\n",
    "            yield x "
   ]
  },
  {
   "cell_type": "code",
   "execution_count": 8,
   "metadata": {},
   "outputs": [],
   "source": [
    "def gradientDes(func, x_start, lr=0.005, max_tol_iter=10, max_iter=1000):\n",
    "    lr = np.abs(lr)\n",
    "    tol_iter = 0\n",
    "    params = np.array(x_start, dtype='float64')\n",
    "    best_params = params\n",
    "    cur_y = func(params)\n",
    "    total_iter = 0\n",
    "    while tol_iter < 10 and total_iter < max_iter:\n",
    "        total_iter += 1\n",
    "        grad = optimize.approx_fprime(params, func, [1e-5]*len(params))\n",
    "        grad /= np.linalg.norm(grad)\n",
    "        params -= lr * grad\n",
    "        tmp_y = func(params)\n",
    "        if tmp_y < cur_y:\n",
    "            cur_y = tmp_y\n",
    "            best_params = params\n",
    "            tol_iter = 0\n",
    "        else:\n",
    "            tol_iter += 1\n",
    "    return cur_y"
   ]
  },
  {
   "cell_type": "code",
   "execution_count": 9,
   "metadata": {},
   "outputs": [],
   "source": [
    "def gradSearch(func, x_start, use_scipylib=False, max_iter=100, tol_max_iter=5):\n",
    "    mn_res = float('inf')\n",
    "    tol_iter = 0\n",
    "    param = None\n",
    "    total_iter = 0\n",
    "    while tol_iter < tol_max_iter and total_iter < max_iter:\n",
    "        total_iter += 1\n",
    "        tmp = gradientDes(func, x_start)\n",
    "        if tmp < mn_res:\n",
    "            tol_iter = 0\n",
    "            mn_res = tmp\n",
    "            param = tmp\n",
    "        else:\n",
    "            tol_iter += 1\n",
    "        x_start = next(random_vector_generator(len(x_start),np.linalg.norm(x_start)))\n",
    "    return param"
   ]
  },
  {
   "cell_type": "code",
   "execution_count": 10,
   "metadata": {},
   "outputs": [],
   "source": [
    "def nelderSearch(func, x_start, n_iters=10000,use_scipylib=False):\n",
    "    mn_res = float('inf')\n",
    "    tol_iter = 0\n",
    "    param = None\n",
    "    while tol_iter < 5:\n",
    "        if not use_scipylib:\n",
    "            tmp = nelder_mead(func, x_start)[1]\n",
    "        else:\n",
    "            tmp = optimize.minimize(func, x_start, method='nelder-mead',\n",
    "               options={'xtol': 1e-8, 'disp': False})['fun']\n",
    "        if tmp < mn_res-1e-6:\n",
    "            tol_iter = 0\n",
    "            mn_res = tmp\n",
    "            param = tmp\n",
    "        else:\n",
    "            tol_iter += 1\n",
    "        x_start = next(random_vector_generator(len(x_start),np.linalg.norm(x_start)))\n",
    "    return param"
   ]
  },
  {
   "cell_type": "code",
   "execution_count": 11,
   "metadata": {},
   "outputs": [],
   "source": [
    "def fminuncSearch(x_start, n_iters=1000, tol_max_iter=10, use_grad=False):\n",
    "    mn_res = float('inf')\n",
    "    tol_iter = 0\n",
    "    param = None\n",
    "    x_start = next(random_vector_generator(len(x_start),np.linalg.norm(np.random.randint(5))))\n",
    "    while tol_iter < tol_max_iter:\n",
    "        x_start = [float(_x) for _x in x_start]\n",
    "        if use_grad == False:\n",
    "            x = mat_eng.minPotentialEnergyWithoutGrad(x_start)\n",
    "        else:\n",
    "            x = mat_eng.minPotentialEnergyWithGrad(x_start)            \n",
    "        tmp = mat_eng.potentialEnergy(x)\n",
    "        if tmp < mn_res-1e-6:\n",
    "            tol_iter = 0\n",
    "            mn_res = tmp\n",
    "            param = tmp\n",
    "            if tmp < mn_res - 1e-3:\n",
    "                print(tmp)\n",
    "        else:\n",
    "            tol_iter += 1\n",
    "        x_start = next(random_vector_generator(len(x_start),np.linalg.norm(np.random.randint(5))))\n",
    "    return param"
   ]
  },
  {
   "cell_type": "code",
   "execution_count": 12,
   "metadata": {},
   "outputs": [],
   "source": [
    "system = System(5)\n",
    "first_guess = system.particlesAsParams()"
   ]
  },
  {
   "cell_type": "code",
   "execution_count": 13,
   "metadata": {},
   "outputs": [
    {
     "data": {
      "text/plain": [
       "-9.103852414428367"
      ]
     },
     "execution_count": 13,
     "metadata": {},
     "output_type": "execute_result"
    }
   ],
   "source": [
    "fminuncSearch(first_guess, tol_max_iter=1, use_grad=True)"
   ]
  },
  {
   "cell_type": "code",
   "execution_count": 67,
   "metadata": {},
   "outputs": [
    {
     "name": "stderr",
     "output_type": "stream",
     "text": [
      "/home/jeff/anaconda3/envs/workvenv35/lib/python3.5/site-packages/ipykernel/__main__.py:18: RuntimeWarning: divide by zero encountered in double_scalars\n",
      "/home/jeff/anaconda3/envs/workvenv35/lib/python3.5/site-packages/ipykernel/__main__.py:18: RuntimeWarning: invalid value encountered in double_scalars\n"
     ]
    },
    {
     "data": {
      "text/plain": [
       "-12.302927110635657"
      ]
     },
     "execution_count": 67,
     "metadata": {},
     "output_type": "execute_result"
    }
   ],
   "source": [
    "gradSearch(system.systemPotentialEnergyAsFunc, first_guess,tol_max_iter=100)"
   ]
  },
  {
   "cell_type": "code",
   "execution_count": 66,
   "metadata": {},
   "outputs": [
    {
     "data": {
      "text/plain": [
       "-16.24370770692708"
      ]
     },
     "execution_count": 66,
     "metadata": {},
     "output_type": "execute_result"
    }
   ],
   "source": [
    "nelderSearch(system.systemPotentialEnergyAsFunc, first_guess, use_scipylib=True)"
   ]
  },
  {
   "cell_type": "code",
   "execution_count": 115,
   "metadata": {},
   "outputs": [
    {
     "data": {
      "text/plain": [
       "'3.098832937043404'"
      ]
     },
     "execution_count": 115,
     "metadata": {},
     "output_type": "execute_result"
    }
   ],
   "source": [
    "'''3.098832937043404'''"
   ]
  },
  {
   "cell_type": "code",
   "execution_count": null,
   "metadata": {},
   "outputs": [],
   "source": []
  }
 ],
 "metadata": {
  "kernelspec": {
   "display_name": "Python [conda env:workvenv35]",
   "language": "python",
   "name": "conda-env-workvenv35-py"
  },
  "language_info": {
   "codemirror_mode": {
    "name": "ipython",
    "version": 3
   },
   "file_extension": ".py",
   "mimetype": "text/x-python",
   "name": "python",
   "nbconvert_exporter": "python",
   "pygments_lexer": "ipython3",
   "version": "3.5.4"
  }
 },
 "nbformat": 4,
 "nbformat_minor": 2
}
